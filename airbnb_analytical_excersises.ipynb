{
 "cells": [
  {
   "cell_type": "markdown",
   "metadata": {},
   "source": [
    "# AirBnB"
   ]
  },
  {
   "cell_type": "markdown",
   "metadata": {},
   "source": [
    "###  Analytical Exercises using `airbnb` data sets"
   ]
  },
  {
   "cell_type": "markdown",
   "metadata": {},
   "source": [
    "> Practice problems from real companies; data and questions' source [Stratascratch](https://education.stratascratch.com)"
   ]
  },
  {
   "cell_type": "code",
   "execution_count": 1,
   "metadata": {},
   "outputs": [],
   "source": [
    "import pandas as pd"
   ]
  },
  {
   "cell_type": "code",
   "execution_count": 2,
   "metadata": {},
   "outputs": [
    {
     "data": {
      "application/json": {
       "Software versions": [
        {
         "module": "Python",
         "version": "3.7.5 64bit [MSC v.1916 64 bit (AMD64)]"
        },
        {
         "module": "IPython",
         "version": "7.13.0"
        },
        {
         "module": "OS",
         "version": "Windows 10 10.0.18362 SP0"
        },
        {
         "module": "pandas",
         "version": "0.25.3"
        }
       ]
      },
      "text/html": [
       "<table><tr><th>Software</th><th>Version</th></tr><tr><td>Python</td><td>3.7.5 64bit [MSC v.1916 64 bit (AMD64)]</td></tr><tr><td>IPython</td><td>7.13.0</td></tr><tr><td>OS</td><td>Windows 10 10.0.18362 SP0</td></tr><tr><td>pandas</td><td>0.25.3</td></tr><tr><td colspan='2'>Wed Apr 08 14:58:08 2020 W. Europe Daylight Time</td></tr></table>"
      ],
      "text/latex": [
       "\\begin{tabular}{|l|l|}\\hline\n",
       "{\\bf Software} & {\\bf Version} \\\\ \\hline\\hline\n",
       "Python & 3.7.5 64bit [MSC v.1916 64 bit (AMD64)] \\\\ \\hline\n",
       "IPython & 7.13.0 \\\\ \\hline\n",
       "OS & Windows 10 10.0.18362 SP0 \\\\ \\hline\n",
       "pandas & 0.25.3 \\\\ \\hline\n",
       "\\hline \\multicolumn{2}{|l|}{Wed Apr 08 14:58:08 2020 W. Europe Daylight Time} \\\\ \\hline\n",
       "\\end{tabular}\n"
      ],
      "text/plain": [
       "Software versions\n",
       "Python 3.7.5 64bit [MSC v.1916 64 bit (AMD64)]\n",
       "IPython 7.13.0\n",
       "OS Windows 10 10.0.18362 SP0\n",
       "pandas 0.25.3\n",
       "Wed Apr 08 14:58:08 2020 W. Europe Daylight Time"
      ]
     },
     "execution_count": 2,
     "metadata": {},
     "output_type": "execute_result"
    }
   ],
   "source": [
    "%load_ext version_information\n",
    "%version_information pandas"
   ]
  },
  {
   "cell_type": "markdown",
   "metadata": {},
   "source": [
    "* Find out the searches made by the people who searches for apartments where they will be the sole person staying.\n",
    "\n",
    "\n",
    "\n",
    "``` python\n",
    "# python\n",
    "airbnb.loc[(airbnb.accommodates==1)&(airbnb.beds==1), 'id']\n",
    "```\n",
    "\n",
    "``` sql\n",
    "--sql\n",
    "select count(id) from airbnb_search_details\n",
    "where accommodates=1 and beds=1;\n",
    "```"
   ]
  },
  {
   "cell_type": "markdown",
   "metadata": {},
   "source": [
    "* Find 50 searches for apartments in New York City which are in the Harlem neighborhood.\n",
    "\n",
    "``` python\n",
    "# python\n",
    "airbnb.loc[(airbnb.city=='NYC')&(airbnb.neighbourhood=='Harlem'), :].head(50)\n",
    "```\n",
    "\n",
    "``` sql\n",
    "-- sql\n",
    "select * from airbnb_search_details\n",
    "where city = 'NYC' and neighbourhood = 'Harlem'\n",
    "limit 50;\n",
    "```"
   ]
  },
  {
   "cell_type": "code",
   "execution_count": 3,
   "metadata": {},
   "outputs": [],
   "source": [
    "# Load table airbnb_search_details\n",
    "\n",
    "airbnb = pd.read_csv('./data/airbnb_search_details.csv')"
   ]
  },
  {
   "cell_type": "markdown",
   "metadata": {},
   "source": [
    "* Find all searches where the number of bedrooms is equal to the number of bathrooms.\n",
    "\n",
    "``` python\n",
    "# python\n",
    "airbnb[airbnb.bedrooms == airbnb.bathrooms]\n",
    "```\n",
    "\n",
    "``` sql\n",
    "--sql\n",
    "select * from airbnb_search_details\n",
    "where bathrooms = bedrooms;\n",
    "```"
   ]
  },
  {
   "cell_type": "markdown",
   "metadata": {},
   "source": [
    "* Find Los Angeles neighborhoods for which searches exist.\n",
    "\n",
    "``` python\n",
    "# python\n",
    "airbnb.loc[airbnb.city == 'LA', 'neighbourhood'].sort_values().unique()\n",
    "```\n",
    "\n",
    "``` sql\n",
    "--sql\n",
    "select distinct neighbourhood from airbnb_search_details\n",
    "where city='LA'\n",
    "order by neighbourhood;\n",
    "```"
   ]
  },
  {
   "cell_type": "markdown",
   "metadata": {},
   "source": [
    "* Make a pivot table which shows the number of searches per city and room type. Rows are different cities while columns are different room types.\n",
    "\n",
    "``` python\n",
    "# python\n",
    "pd.crosstab(index = airbnb.city, columns = airbnb.room_type)\n",
    "```\n",
    "\n",
    "``` sql\n",
    "-- sql\n",
    "select distinct room_type, count(*) as quantity from airbnb_search_details\n",
    "group by room_type;\n",
    "\n",
    "select\n",
    "       count(case when room_type = 'Entire home/apt' then room_type end) as entire_property,\n",
    "       count(case when room_type = 'Private room' then room_type end) as privat_room,\n",
    "       count(case when room_type = 'Shared room' then room_type end) as shared_room\n",
    "from airbnb_search_details;\n",
    "\n",
    "select city, room_type, count(*) as quantity from airbnb_search_details\n",
    "group by city, room_type;\n",
    "\n",
    "select city,\n",
    "       count(case when room_type = 'Entire home/apt' then room_type end) as entire_property,\n",
    "       count(case when room_type = 'Private room' then room_type end) as privat_room,\n",
    "       count(case when room_type = 'Shared room' then room_type end) as shared_room\n",
    "from airbnb_search_details\n",
    "group by city;\n",
    "```"
   ]
  },
  {
   "cell_type": "markdown",
   "metadata": {},
   "source": [
    "* Find all searches where the `host_response_rate` column is missing data.\n",
    "\n",
    "``` python\n",
    "# python\n",
    "airbnb[airbnb.host_response_rate.isna()]\n",
    "```\n",
    "\n",
    "``` sql\n",
    "--sql\n",
    "select distinct host_response_rate from airbnb_search_details;\n",
    "\n",
    "select * from airbnb_search_details\n",
    "where host_response_rate = '';\n",
    "```"
   ]
  },
  {
   "cell_type": "markdown",
   "metadata": {},
   "source": [
    "* Find all searches for San Francisco with flexible cancellation policies and which have a review score value. Ordered by the review score from highest to lowest.\n",
    "\n",
    "``` python\n",
    "# python\n",
    "f = (airbnb.city == 'SF') & (airbnb.cancellation_policy == 'flexible')\n",
    "airbnb[f].sort_values(by=['review_scores_rating', 'id'], ascending=False, axis=0)\n",
    "```\n",
    "\n",
    "``` sql\n",
    "--sql\n",
    "select * from airbnb_search_details\n",
    "where city = 'SF' and cancellation_policy = 'flexible'\n",
    "order by review_scores_rating desc, id desc;\n",
    "```"
   ]
  },
  {
   "cell_type": "markdown",
   "metadata": {},
   "source": [
    "* Find all houses and villas which have Internet access but no wireless Internet access.\n",
    "\n",
    "``` python\n",
    "# python\n",
    "f = airbnb.amenities.apply(lambda x: 'Wireless Internet' not in x and 'Internet' in x) \n",
    "h = (airbnb.property_type == \"House\") | (airbnb.property_type == \"Villa\") \n",
    "airbnb[f&h]\n",
    "```\n",
    "\n",
    "``` sql\n",
    "-- sql\n",
    "select * from airbnb_search_details\n",
    "where (amenities not like '%Wireless Internet%') and \n",
    "    (amenities like '%Internet%') and\n",
    "    property_type in ('Villa','House');\n",
    "```"
   ]
  },
  {
   "cell_type": "markdown",
   "metadata": {},
   "source": [
    "* Find the price of the cheapest property for every city.\n",
    "\n",
    "``` python\n",
    "# python\n",
    "airbnb.groupby('city')['log_price'].min()\n",
    "```\n",
    "\n",
    "```sql\n",
    "--sql\n",
    "select city, min(log_price) from airbnb_search_details\n",
    "group by city;\n",
    "```"
   ]
  },
  {
   "cell_type": "markdown",
   "metadata": {},
   "source": [
    "* Find all neighborhoods present in this dataset.\n",
    "\n",
    "``` python\n",
    "#python\n",
    "airbnb.neighbourhood.unique()\n",
    "```\n",
    "\n",
    "```sql\n",
    "--sql\n",
    "select distinct neighbourhood from airbnb_search_details;\n",
    "```"
   ]
  },
  {
   "cell_type": "markdown",
   "metadata": {},
   "source": [
    "* Find the search for each city which has the highest number of amenities. Estimate the number of amenities as the number of characters in the `amenities` column.\n",
    "\n",
    "``` python\n",
    "# python\n",
    "airbnb['amenities_len'] = airbnb.amenities.apply(len)\n",
    "airbnb.groupby(airbnb.city)['amenities_len'].max().sort_values(ascending=False)\n",
    "```\n",
    "\n",
    "```sql\n",
    "--sql\n",
    "select city, max(amenities_number) from (\n",
    "select city, length(amenities) as amenities_number from airbnb_search_details)\n",
    "group by city\n",
    "order by 2 desc;\n",
    "```"
   ]
  },
  {
   "cell_type": "markdown",
   "metadata": {},
   "source": [
    "* Fix the `host_since` column using string processing to be a valid DATE.\n",
    "\n",
    "``` python\n",
    "# python\n",
    "airbnb.loc[:, 'host_since'] = pd.to_datetime(airbnb.host_since)\n",
    "```"
   ]
  },
  {
   "cell_type": "markdown",
   "metadata": {},
   "source": [
    "*  Find the price of the most expensive beach properties for each city.\n",
    "\n",
    "```python\n",
    "# python\n",
    "f = airbnb.description.str.lower().apply(lambda x: 'beach' in x)\n",
    "airbnb[f].groupby('city')['log_price'].max()\n",
    "```\n",
    "\n",
    "``` sql\n",
    "-- sql\n",
    "SELECT\n",
    "    city,\n",
    "    MAX(log_price)\n",
    "FROM airbnb_search_details\n",
    "WHERE description LIKE '%beach%'\n",
    "GROUP BY city;\n",
    "```"
   ]
  },
  {
   "cell_type": "markdown",
   "metadata": {},
   "source": [
    "* Find the average number of beds in neighborhoods in which no property has less than 3 beds.\n",
    "\n",
    "``` python\n",
    "# python\n",
    "# find min number of beds per neighbourhood\n",
    "df = airbnb.groupby(['neighbourhood'])['beds'].min()\n",
    "\n",
    "# find neighbourhoods in which no property has less yhan 3 beds\n",
    "nbrhd = df[df>3].index\n",
    "\n",
    "# filter for neighbourhoods\n",
    "f = airbnb.neighbourhood.apply(lambda x: x in nbrhd)\n",
    "\n",
    "# choose properties for selected neighbourhood\n",
    "airbnb[f].groupby(['neighbourhood'])['beds'].mean()\n",
    "```\n",
    "\n",
    "``` sql\n",
    "--sql\n",
    "select neighbourhood, avg(beds) from airbnb_search_details\n",
    "group by neighbourhood\n",
    "having min(beds) > 3;\n",
    "```"
   ]
  },
  {
   "cell_type": "markdown",
   "metadata": {},
   "source": [
    "* It is time for your vacation. You need to chose which city to visit. You don't have much money so you decide to stay in a shared room, but you want to share the room with as little people as possible. You devise a score which tells you the average number of persons accommodated by the shared room over the average number of beds available for each city and order the choice of cities by that score. \n",
    "\n",
    "``` python\n",
    "# python\n",
    "df = airbnb[airbnb.room_type == 'Shared room'].groupby(['city'])[['accommodates', 'beds']].mean()\n",
    "\n",
    "(df.accommodates/df.beds).sort_values(ascending=True)\n",
    "```\n",
    "\n",
    "``` sql\n",
    "-- sql\n",
    "select city, avg(accommodates)/AVG(beds) from airbnb_search_details\n",
    "where room_type='Shared room'\n",
    "group by city\n",
    "order by crowdness_ratio asc;\n",
    "```"
   ]
  },
  {
   "cell_type": "markdown",
   "metadata": {},
   "source": [
    "* Find all neighborhoods where there are properties which have no cleaning fees and have parking space.\n",
    "\n",
    "``` python\n",
    "# python\n",
    "f = (airbnb.amenities.str.contains('parking', case=False, regex=False))&\n",
    "(airbnb.cleaning_fee == False)\n",
    "\n",
    "airbnb.loc[f, 'neighbourhood'].unique()\n",
    "```\n",
    "\n",
    "``` sql\n",
    "--sql\n",
    "select distinct neighbourhood from airbnb_search_details\n",
    "where (amenities like '%parking%') and (cleaning_fee = 'FALSE');\n",
    "```"
   ]
  },
  {
   "cell_type": "markdown",
   "metadata": {},
   "source": [
    "* How many hosts are verified by AirBnB staff? How many aren't?\n",
    "\n",
    "``` python\n",
    "# python\n",
    "airbnb.host_identity_verified.value_counts(dropna=False)\n",
    "```\n",
    "\n",
    "``` sql\n",
    "--sql\n",
    "select distinct host_identity_verified from airbnb_search_details;\n",
    "\n",
    "select \n",
    "    count(case when host_identity_verified = 't' then host_identity_verified end) as verified,\n",
    "    count(case when host_identity_verified = 'f' then host_identity_verified end) as not_verified,\n",
    "    count(case when host_identity_verified = '' then host_identity_verified end) as no_information\n",
    "from airbnb_search_details;\n",
    "\n",
    "select host_identity_verified, count(host_identity_verified) from airbnb_search_details\n",
    "group by host_identity_verified; \n",
    "```"
   ]
  },
  {
   "cell_type": "code",
   "execution_count": 4,
   "metadata": {},
   "outputs": [],
   "source": [
    "# Load more tables: airbnb_searches, airbnb_contacts, airbnb_reviews, airbnb_guests\n",
    "\n",
    "searches = pd.read_csv('./data/airbnb_searches.csv')\n",
    "contacts = pd.read_csv('./data/airbnb_contacts.csv')\n",
    "reviews = pd.read_csv('./data/airbnb_reviews.csv')\n",
    "guests = pd.read_csv('./data/airbnb_guests.csv')\n",
    "hosts = pd.read_csv('./data/airbnb_hosts.csv')\n",
    "apartments = pd.read_csv('./data/airbnb_apartments.csv')"
   ]
  },
  {
   "cell_type": "markdown",
   "metadata": {},
   "source": [
    "* Find the first 5 entries by joining search details and contacts datasets. Tables: `airbnb_contacts`, `airbnb_searches`.\n",
    "\n",
    "``` python\n",
    "# python\n",
    "searches.merge(contacts, how='left', \n",
    "                         left_on=['id_user','ds_checkin','ds_checkout'], \n",
    "                         right_on=['id_guest','ds_checkin','ds_checkout']).iloc[0:4, :]\n",
    "```\n",
    "\n",
    "``` sql\n",
    "-- sql\n",
    "select * from airbnb_searches as asd left join airbnb_contacts as ac\n",
    "on asd.id_user = ac.id_guest and asd.ds_checkin=ac.ds_checkin and asd.ds_checkout=ac.ds_checkout\n",
    "limit 5;\n",
    "```"
   ]
  },
  {
   "cell_type": "markdown",
   "metadata": {},
   "source": [
    "* -- Which gender is more generous in giving positive reviews when considering only guest reviewers? Tables: `airbnb_reviews`, `airbnb_guests`\n",
    "\n",
    "```python\n",
    "#python\n",
    "df = reviews.merge(guests, left_on='from_user', right_on='guest_id', how='left')\n",
    "df=df[df.from_type=='guest']\n",
    "df.loc[:, 'review'] = df['review_score'].apply(lambda x: 'positive' if x>5 else 'negative')\n",
    "df.groupby(['gender', 'review'])['review_score'].count()\n",
    "```\n",
    "\n",
    "```sql\n",
    "--sql\n",
    "select gender,  \n",
    "case \n",
    "    when review_score > 5 then 'positive'\n",
    "    when review_score <= 5 then 'negative'\n",
    "end as review,\n",
    "count(review_score) from (\n",
    "    select * from\n",
    "    airbnb_reviews as r left join airbnb_guests as g\n",
    "    on r.from_user = g.guest_id\n",
    "    where r.from_type='guest')\n",
    "group by gender, review;\n",
    "```"
   ]
  },
  {
   "cell_type": "markdown",
   "metadata": {},
   "source": [
    "* Each guest reviews multiple hosts. What is the top rated hosts' nationality for each guest reviewer? Tables: `airbnb_reviews`, `airbnb_hosts`.\n",
    "\n",
    "```python\n",
    "#python\n",
    "# subsettig guest reviews\n",
    "df = reviews[reviews.to_type=='host'].merge(hosts, left_on='to_user', right_on='host_id', how='left')\n",
    "\n",
    "# top rated hosts\n",
    "top_hosts = df[df.review_score==df.review_score.max()]\n",
    "\n",
    "# top rated hosts' nationality for each reviewer\n",
    "top_hosts.groupby(['from_user', 'review_score'])['nationality'].unique().apply(lambda x: ', '.join(x))\n",
    "```\n",
    "\n",
    "```sql\n",
    "--sql\n",
    "select from_user, nationality from (\n",
    "    select * from\n",
    "    airbnb_reviews as r left join airbnb_hosts as h\n",
    "    on r.to_user=host_id\n",
    "    )\n",
    "where to_type='host' and review_score = 10\n",
    "group by from_user, nationality;\n",
    "```"
   ]
  },
  {
   "cell_type": "markdown",
   "metadata": {},
   "source": [
    "* How many hosts have apartments in countries of which they are not citizens? Tables: `airbnb_hosts`, `airbnb_apartments`\n",
    "\n",
    "```python\n",
    "#python\n",
    "df = apartments.merge(hosts, on='host_id')\n",
    "(df.nationality != df.country).sum()\n",
    "```\n",
    "\n",
    "```sql\n",
    "--sql\n",
    "select count(*) as hosts from (\n",
    "    select * from airbnb.airbnb_apartments as a inner join airbnb_hosts as h\n",
    "    on a.host_id=h.host_id\n",
    "    )\n",
    "where country <> nationality;\n",
    "```\n"
   ]
  },
  {
   "cell_type": "markdown",
   "metadata": {},
   "source": [
    "* Each host reviews multiple guests. What is the average age of guests reviewed by each host?\n",
    "Tables: `airbnb_reviews`, `airbnb_guests`.\n",
    "\n",
    "```python\n",
    "#python\n",
    "df=reviews.merge(guests, left_on='to_user', right_on='guest_id', how='inner')\n",
    "df[df.from_type=='host'].groupby('from_user')['age'].mean()\n",
    "```\n",
    "\n",
    "```sql\n",
    "--sql\n",
    "select from_user, avg(age)as average_age from (\n",
    "    select * from \n",
    "        airbnb_reviews as r join airbnb_guests as g\n",
    "        on r.to_user=g.guest_id\n",
    "   where from_type='host'\n",
    ")\n",
    "\n",
    "group by from_user;\n",
    "```"
   ]
  },
  {
   "cell_type": "markdown",
   "metadata": {},
   "source": [
    "* Make a pivot table that shows the total number of searches for each room type based on the city. Output should have 4 columns that include the name of the city, apartment count, private room count, and shared room count. Table: `airbnb_search_details`\n",
    "\n",
    "```python\n",
    "#python\n",
    "pd.pivot_table(airbnb, values=['id'], \n",
    "               columns=['room_type'], \n",
    "               index=['city'], \n",
    "               aggfunc='count').reset_index()\n",
    "```\n",
    "\n",
    "```sql\n",
    "--sql\n",
    "select city,\n",
    "    count(case when room_type='Entire home/apt' then room_type end) as 'Home/Apt',\n",
    "    count(case when room_type='Private room' then room_type end) as 'Private room',\n",
    "    count(case when room_type='Shared room' then room_type end) as 'Shared room'\n",
    "from airbnb_search_details\n",
    "group by city;\n",
    "```"
   ]
  },
  {
   "cell_type": "markdown",
   "metadata": {},
   "source": [
    "* Find neighborhoods where you can sleep on a real bed in a villa with beach access while paying the minimum price possible. Table: `airbnb_search_details`\n",
    "\n",
    "```python\n",
    "# python\n",
    "f = (airbnb.log_price>0) & \\\n",
    "    (airbnb.bed_type=='Real Bed') & \\\n",
    "    (airbnb.property_type=='Villa') & \\\n",
    "    (airbnb.description.apply(lambda x: 'beach' in x.lower()))\n",
    "\n",
    "df = airbnb[f]\n",
    "df.loc[df.log_price==df.log_price.min(), 'neighbourhood']\n",
    "```\n",
    "\n",
    "```sql\n",
    "--sql\n",
    "select log_price, neighbourhood from airbnb_search_details\n",
    "where (bed_type = 'Real Bed') and (description like '% beach %') and (property_type='Villa') and log_price in (\n",
    "    select min(log_price) from airbnb_search_details\n",
    "    where (log_price > 0) and (bed_type = 'Real Bed') and (description like '% beach %') and (property_type='Villa'));\n",
    "```"
   ]
  },
  {
   "cell_type": "markdown",
   "metadata": {},
   "source": [
    "* Find the number of searches made by each user and present the result with their corresponding user id. Table `airbnb_searches`.\n",
    "\n",
    "```\n",
    "#python\n",
    "searches.groupby('id_user')['id_user'].count().reset_index()\n",
    "\n",
    "```\n",
    "\n",
    "```sql\n",
    "--sql\n",
    "select id_user, count(id_user) from  airbnb_searches\n",
    "group by id_user;\n",
    "```"
   ]
  },
  {
   "cell_type": "markdown",
   "metadata": {},
   "source": [
    "* Display the number of times a user performed a search which led to a successful booking and the number of times a user performed a search but did not lead to a booking. The output should have a column named action with values 'does not book' and 'books' as well as a 2nd column named average_searches with the average number of searches per action. Consider that the booking did not happen if the booking date is null. Tables: `airbnb_searches`, `airbnb_contacts`\n",
    "\n",
    "```python\n",
    "# python\n",
    "\n",
    "# join two tables\n",
    "df=searches.merge(contacts, how='left',\n",
    "                              left_on=['id_user','ds_checkin','ds_checkout'], \n",
    "                              right_on=['id_guest','ds_checkin','ds_checkout'])\n",
    "# create a new column that is a categorical variable 'action'\n",
    "df['action'] = ''\n",
    "df.loc[df.ts_booking_at.isna(), 'action']='does not book'\n",
    "df.loc[~df.ts_booking_at.isna(), 'action']='books'\n",
    "\n",
    "df.groupby(['id_user', 'action'])['n_searches'] \\\n",
    "    .agg(average_searches=('n_searches', 'mean')) \\\n",
    "    .reset_index('action')\n",
    "```\n",
    "\n",
    "```sql\n",
    "--sql\n",
    "select id_user, \n",
    "case\n",
    "    when ts_booking_at is NULL then 'does not book'\n",
    "    when ts_booking_at is not NULL then 'books'\n",
    "end as actions, avg(n_searches) as average_searches from(\n",
    "    select * from airbnb_searches as asd left join airbnb_contacts as ac\n",
    "    on asd.id_user = ac.id_guest and asd.ds_checkin=ac.ds_checkin and asd.ds_checkout=ac.ds_checkout\n",
    "    )\n",
    "group by id_user, actions;\n",
    "```"
   ]
  },
  {
   "cell_type": "markdown",
   "metadata": {},
   "source": [
    "* How many unique users have performed a search? Table: `airbnb_searches`.\n",
    "\n",
    "```python\n",
    "#python\n",
    "searches.id_user.unique().shape\n",
    "```\n",
    "\n",
    "```sql\n",
    "--sql\n",
    "select count(*) as number_of_users from (\n",
    "    select distinct id_user from airbnb_searches\n",
    ");\n",
    "```\n"
   ]
  },
  {
   "cell_type": "markdown",
   "metadata": {},
   "source": [
    "* Find how many the number of different property types in the dataset. Table: `airbnb_searches`.\n",
    "\n",
    "```python\n",
    "#python\n",
    "searches.filter_room_types.str.lstrip(to_strip=',').unique().shape[0]\n",
    "```\n",
    "\n",
    "```sql\n",
    "---sql\n",
    "select count(*) from (\n",
    "     select distinct room_types_cleaned from (\n",
    "        select filter_room_types, \n",
    "        case \n",
    "             when filter_room_types like ',%' then ltrim(filter_room_types,',')\n",
    "             when filter_room_types not like ',%' then filter_room_types\n",
    "        end as room_types_cleaned from airbnb_searches\n",
    "        )\n",
    "    );\n",
    "```"
   ]
  }
 ],
 "metadata": {
  "kernelspec": {
   "display_name": "Python 3 (Spyder)",
   "language": "python3",
   "name": "python3"
  },
  "language_info": {
   "codemirror_mode": {
    "name": "ipython",
    "version": 3
   },
   "file_extension": ".py",
   "mimetype": "text/x-python",
   "name": "python",
   "nbconvert_exporter": "python",
   "pygments_lexer": "ipython3",
   "version": "3.7.5"
  }
 },
 "nbformat": 4,
 "nbformat_minor": 4
}
